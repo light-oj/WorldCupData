{
 "cells": [
  {
   "cell_type": "markdown",
   "metadata": {},
   "source": [
    "### Analyzing the World Cup Data\n",
    "\n",
    "This dataset contains information about the FIFA WorldCup from inception till 2014. We shall now explore to see pattern and possible insights."
   ]
  },
  {
   "cell_type": "code",
   "execution_count": 1,
   "metadata": {},
   "outputs": [],
   "source": [
    "# Importing necessary libraries\n",
    "\n",
    "import pandas as pd\n",
    "import numpy as np\n",
    "import matplotlib.pyplot as plt"
   ]
  },
  {
   "cell_type": "code",
   "execution_count": 2,
   "metadata": {},
   "outputs": [],
   "source": [
    "# Loading the data with pandas\n",
    "\n",
    "worldCupData = pd.read_csv('World cup data.csv')"
   ]
  },
  {
   "cell_type": "code",
   "execution_count": 3,
   "metadata": {},
   "outputs": [
    {
     "data": {
      "text/html": [
       "<div>\n",
       "<style scoped>\n",
       "    .dataframe tbody tr th:only-of-type {\n",
       "        vertical-align: middle;\n",
       "    }\n",
       "\n",
       "    .dataframe tbody tr th {\n",
       "        vertical-align: top;\n",
       "    }\n",
       "\n",
       "    .dataframe thead th {\n",
       "        text-align: right;\n",
       "    }\n",
       "</style>\n",
       "<table border=\"1\" class=\"dataframe\">\n",
       "  <thead>\n",
       "    <tr style=\"text-align: right;\">\n",
       "      <th></th>\n",
       "      <th>Year</th>\n",
       "      <th>Date</th>\n",
       "      <th>Time</th>\n",
       "      <th>Round</th>\n",
       "      <th>Stadium</th>\n",
       "      <th>City</th>\n",
       "      <th>HomeTeam</th>\n",
       "      <th>HomeGoals</th>\n",
       "      <th>AwayGoals</th>\n",
       "      <th>AwayTeam</th>\n",
       "      <th>Observation</th>\n",
       "    </tr>\n",
       "  </thead>\n",
       "  <tbody>\n",
       "    <tr>\n",
       "      <td>0</td>\n",
       "      <td>1930</td>\n",
       "      <td>13-Jul-30</td>\n",
       "      <td>15:00</td>\n",
       "      <td>Group 1</td>\n",
       "      <td>Pocitos</td>\n",
       "      <td>Montevideo</td>\n",
       "      <td>France</td>\n",
       "      <td>4</td>\n",
       "      <td>1</td>\n",
       "      <td>Mexico</td>\n",
       "      <td></td>\n",
       "    </tr>\n",
       "    <tr>\n",
       "      <td>1</td>\n",
       "      <td>1930</td>\n",
       "      <td>13-Jul-30</td>\n",
       "      <td>15:00</td>\n",
       "      <td>Group 4</td>\n",
       "      <td>Parque Central</td>\n",
       "      <td>Montevideo</td>\n",
       "      <td>USA</td>\n",
       "      <td>3</td>\n",
       "      <td>0</td>\n",
       "      <td>Belgium</td>\n",
       "      <td></td>\n",
       "    </tr>\n",
       "    <tr>\n",
       "      <td>2</td>\n",
       "      <td>1930</td>\n",
       "      <td>14-Jul-30</td>\n",
       "      <td>12:45</td>\n",
       "      <td>Group 2</td>\n",
       "      <td>Parque Central</td>\n",
       "      <td>Montevideo</td>\n",
       "      <td>Yugoslavia</td>\n",
       "      <td>2</td>\n",
       "      <td>1</td>\n",
       "      <td>Brazil</td>\n",
       "      <td></td>\n",
       "    </tr>\n",
       "    <tr>\n",
       "      <td>3</td>\n",
       "      <td>1930</td>\n",
       "      <td>14-Jul-30</td>\n",
       "      <td>14:50</td>\n",
       "      <td>Group 3</td>\n",
       "      <td>Pocitos</td>\n",
       "      <td>Montevideo</td>\n",
       "      <td>Romania</td>\n",
       "      <td>3</td>\n",
       "      <td>1</td>\n",
       "      <td>Peru</td>\n",
       "      <td></td>\n",
       "    </tr>\n",
       "    <tr>\n",
       "      <td>4</td>\n",
       "      <td>1930</td>\n",
       "      <td>15-Jul-30</td>\n",
       "      <td>16:00</td>\n",
       "      <td>Group 1</td>\n",
       "      <td>Parque Central</td>\n",
       "      <td>Montevideo</td>\n",
       "      <td>Argentina</td>\n",
       "      <td>1</td>\n",
       "      <td>0</td>\n",
       "      <td>France</td>\n",
       "      <td></td>\n",
       "    </tr>\n",
       "  </tbody>\n",
       "</table>\n",
       "</div>"
      ],
      "text/plain": [
       "   Year       Date     Time    Round         Stadium         City    HomeTeam  \\\n",
       "0  1930  13-Jul-30   15:00   Group 1         Pocitos  Montevideo       France   \n",
       "1  1930  13-Jul-30   15:00   Group 4  Parque Central  Montevideo          USA   \n",
       "2  1930  14-Jul-30   12:45   Group 2  Parque Central  Montevideo   Yugoslavia   \n",
       "3  1930  14-Jul-30   14:50   Group 3         Pocitos  Montevideo      Romania   \n",
       "4  1930  15-Jul-30   16:00   Group 1  Parque Central  Montevideo    Argentina   \n",
       "\n",
       "   HomeGoals  AwayGoals AwayTeam Observation  \n",
       "0          4          1   Mexico              \n",
       "1          3          0  Belgium              \n",
       "2          2          1   Brazil              \n",
       "3          3          1     Peru              \n",
       "4          1          0   France              "
      ]
     },
     "execution_count": 3,
     "metadata": {},
     "output_type": "execute_result"
    }
   ],
   "source": [
    "# Showing the dataset first five data\n",
    "worldCupData.head(5)"
   ]
  },
  {
   "cell_type": "code",
   "execution_count": 4,
   "metadata": {},
   "outputs": [
    {
     "data": {
      "text/plain": [
       "(852, 11)"
      ]
     },
     "execution_count": 4,
     "metadata": {},
     "output_type": "execute_result"
    }
   ],
   "source": [
    "# Let's see the details of number of rows \n",
    "# and columns contained in the dataset\n",
    "worldCupData.shape"
   ]
  },
  {
   "cell_type": "markdown",
   "metadata": {},
   "source": [
    "The dataset contains 852 rows and 11 columns."
   ]
  },
  {
   "cell_type": "code",
   "execution_count": 5,
   "metadata": {
    "scrolled": true
   },
   "outputs": [
    {
     "data": {
      "text/html": [
       "<div>\n",
       "<style scoped>\n",
       "    .dataframe tbody tr th:only-of-type {\n",
       "        vertical-align: middle;\n",
       "    }\n",
       "\n",
       "    .dataframe tbody tr th {\n",
       "        vertical-align: top;\n",
       "    }\n",
       "\n",
       "    .dataframe thead th {\n",
       "        text-align: right;\n",
       "    }\n",
       "</style>\n",
       "<table border=\"1\" class=\"dataframe\">\n",
       "  <thead>\n",
       "    <tr style=\"text-align: right;\">\n",
       "      <th></th>\n",
       "      <th>Year</th>\n",
       "      <th>HomeGoals</th>\n",
       "      <th>AwayGoals</th>\n",
       "    </tr>\n",
       "  </thead>\n",
       "  <tbody>\n",
       "    <tr>\n",
       "      <td>count</td>\n",
       "      <td>852.000000</td>\n",
       "      <td>852.000000</td>\n",
       "      <td>852.000000</td>\n",
       "    </tr>\n",
       "    <tr>\n",
       "      <td>mean</td>\n",
       "      <td>1985.089202</td>\n",
       "      <td>1.811033</td>\n",
       "      <td>1.022300</td>\n",
       "    </tr>\n",
       "    <tr>\n",
       "      <td>std</td>\n",
       "      <td>22.448825</td>\n",
       "      <td>1.610255</td>\n",
       "      <td>1.087573</td>\n",
       "    </tr>\n",
       "    <tr>\n",
       "      <td>min</td>\n",
       "      <td>1930.000000</td>\n",
       "      <td>0.000000</td>\n",
       "      <td>0.000000</td>\n",
       "    </tr>\n",
       "    <tr>\n",
       "      <td>25%</td>\n",
       "      <td>1970.000000</td>\n",
       "      <td>1.000000</td>\n",
       "      <td>0.000000</td>\n",
       "    </tr>\n",
       "    <tr>\n",
       "      <td>50%</td>\n",
       "      <td>1990.000000</td>\n",
       "      <td>2.000000</td>\n",
       "      <td>1.000000</td>\n",
       "    </tr>\n",
       "    <tr>\n",
       "      <td>75%</td>\n",
       "      <td>2002.000000</td>\n",
       "      <td>3.000000</td>\n",
       "      <td>2.000000</td>\n",
       "    </tr>\n",
       "    <tr>\n",
       "      <td>max</td>\n",
       "      <td>2014.000000</td>\n",
       "      <td>10.000000</td>\n",
       "      <td>7.000000</td>\n",
       "    </tr>\n",
       "  </tbody>\n",
       "</table>\n",
       "</div>"
      ],
      "text/plain": [
       "              Year   HomeGoals   AwayGoals\n",
       "count   852.000000  852.000000  852.000000\n",
       "mean   1985.089202    1.811033    1.022300\n",
       "std      22.448825    1.610255    1.087573\n",
       "min    1930.000000    0.000000    0.000000\n",
       "25%    1970.000000    1.000000    0.000000\n",
       "50%    1990.000000    2.000000    1.000000\n",
       "75%    2002.000000    3.000000    2.000000\n",
       "max    2014.000000   10.000000    7.000000"
      ]
     },
     "execution_count": 5,
     "metadata": {},
     "output_type": "execute_result"
    }
   ],
   "source": [
    "worldCupData.describe()"
   ]
  },
  {
   "cell_type": "markdown",
   "metadata": {},
   "source": [
    "Notes\n",
    "\n",
    "* Year: The data year starts from 1930 and ends in 2014. \n",
    "\n",
    "* Highest Goal in a Match: The highest Homegoals scored is 10 and the highest Awaygoals is 7"
   ]
  },
  {
   "cell_type": "markdown",
   "metadata": {},
   "source": [
    "##### Question 1: How many matches were played in each year world cup year from 1930"
   ]
  },
  {
   "cell_type": "code",
   "execution_count": 6,
   "metadata": {},
   "outputs": [
    {
     "name": "stdout",
     "output_type": "stream",
     "text": [
      "{1930: 18, 1934: 17, 1938: 18, 1950: 22, 1954: 26, 1958: 35, 1962: 32, 1966: 32, 1970: 32, 1974: 38, 1978: 38, 1982: 52, 1986: 52, 1990: 52, 1994: 52, 1998: 64, 2002: 64, 2006: 64, 2010: 64, 2014: 80}\n"
     ]
    }
   ],
   "source": [
    "# Let's count how many matches were played\n",
    "\n",
    "matchesPlayed = {}\n",
    "\n",
    "for data in worldCupData['Year']:\n",
    "    if data not in matchesPlayed:\n",
    "        matchesPlayed[data] = 1\n",
    "    else:\n",
    "        matchesPlayed[data] += 1\n",
    "        \n",
    "print(matchesPlayed)"
   ]
  },
  {
   "cell_type": "markdown",
   "metadata": {},
   "source": [
    "Let's plot the histogram to see clearly the pattern formed by this data."
   ]
  },
  {
   "cell_type": "code",
   "execution_count": 7,
   "metadata": {},
   "outputs": [
    {
     "data": {
      "image/png": "[encoded data removed]",
      "text/plain": [
       "<Figure size 432x288 with 1 Axes>"
      ]
     },
     "metadata": {
      "needs_background": "light"
     },
     "output_type": "display_data"
    }
   ],
   "source": [
    "plt.title(\"Year vs number of Matches\")\n",
    "plt.xlabel(\"Year\")\n",
    "plt.ylabel(\"Number of matches\")\n",
    "plt.bar(matchesPlayed.keys(), matchesPlayed.values(), color=\"blue\")\n",
    "plt.show()"
   ]
  },
  {
   "cell_type": "markdown",
   "metadata": {},
   "source": [
    "From the histogram, we can see that the number of matches played since 1930 has continued to increase, this is probably due to the increase in number of participating teams/country. \n",
    "\n",
    "There is also a gap in the chart which shows that the competition didn't take place in those years. We can find out why?? Not necessary though.\n",
    "\n",
    "Year 2014 has the highest number of matches played with 80 while the lowest was 1934 with 17 "
   ]
  },
  {
   "cell_type": "markdown",
   "metadata": {},
   "source": [
    "##### Question 2: Total goals scored for each tournament year"
   ]
  },
  {
   "cell_type": "code",
   "execution_count": 8,
   "metadata": {},
   "outputs": [],
   "source": [
    "# Create a new column for total goals per game by adding \n",
    "# the HomeGoals and the AwayGoals\n",
    "worldCupData['TotalGoalsPerGame'] = worldCupData['HomeGoals'] + worldCupData['AwayGoals']"
   ]
  },
  {
   "cell_type": "code",
   "execution_count": 9,
   "metadata": {},
   "outputs": [
    {
     "data": {
      "text/html": [
       "<div>\n",
       "<style scoped>\n",
       "    .dataframe tbody tr th:only-of-type {\n",
       "        vertical-align: middle;\n",
       "    }\n",
       "\n",
       "    .dataframe tbody tr th {\n",
       "        vertical-align: top;\n",
       "    }\n",
       "\n",
       "    .dataframe thead th {\n",
       "        text-align: right;\n",
       "    }\n",
       "</style>\n",
       "<table border=\"1\" class=\"dataframe\">\n",
       "  <thead>\n",
       "    <tr style=\"text-align: right;\">\n",
       "      <th></th>\n",
       "      <th>Year</th>\n",
       "      <th>Date</th>\n",
       "      <th>Time</th>\n",
       "      <th>Round</th>\n",
       "      <th>Stadium</th>\n",
       "      <th>City</th>\n",
       "      <th>HomeTeam</th>\n",
       "      <th>HomeGoals</th>\n",
       "      <th>AwayGoals</th>\n",
       "      <th>AwayTeam</th>\n",
       "      <th>Observation</th>\n",
       "      <th>TotalGoalsPerGame</th>\n",
       "    </tr>\n",
       "  </thead>\n",
       "  <tbody>\n",
       "    <tr>\n",
       "      <td>0</td>\n",
       "      <td>1930</td>\n",
       "      <td>13-Jul-30</td>\n",
       "      <td>15:00</td>\n",
       "      <td>Group 1</td>\n",
       "      <td>Pocitos</td>\n",
       "      <td>Montevideo</td>\n",
       "      <td>France</td>\n",
       "      <td>4</td>\n",
       "      <td>1</td>\n",
       "      <td>Mexico</td>\n",
       "      <td></td>\n",
       "      <td>5</td>\n",
       "    </tr>\n",
       "    <tr>\n",
       "      <td>1</td>\n",
       "      <td>1930</td>\n",
       "      <td>13-Jul-30</td>\n",
       "      <td>15:00</td>\n",
       "      <td>Group 4</td>\n",
       "      <td>Parque Central</td>\n",
       "      <td>Montevideo</td>\n",
       "      <td>USA</td>\n",
       "      <td>3</td>\n",
       "      <td>0</td>\n",
       "      <td>Belgium</td>\n",
       "      <td></td>\n",
       "      <td>3</td>\n",
       "    </tr>\n",
       "    <tr>\n",
       "      <td>2</td>\n",
       "      <td>1930</td>\n",
       "      <td>14-Jul-30</td>\n",
       "      <td>12:45</td>\n",
       "      <td>Group 2</td>\n",
       "      <td>Parque Central</td>\n",
       "      <td>Montevideo</td>\n",
       "      <td>Yugoslavia</td>\n",
       "      <td>2</td>\n",
       "      <td>1</td>\n",
       "      <td>Brazil</td>\n",
       "      <td></td>\n",
       "      <td>3</td>\n",
       "    </tr>\n",
       "    <tr>\n",
       "      <td>3</td>\n",
       "      <td>1930</td>\n",
       "      <td>14-Jul-30</td>\n",
       "      <td>14:50</td>\n",
       "      <td>Group 3</td>\n",
       "      <td>Pocitos</td>\n",
       "      <td>Montevideo</td>\n",
       "      <td>Romania</td>\n",
       "      <td>3</td>\n",
       "      <td>1</td>\n",
       "      <td>Peru</td>\n",
       "      <td></td>\n",
       "      <td>4</td>\n",
       "    </tr>\n",
       "    <tr>\n",
       "      <td>4</td>\n",
       "      <td>1930</td>\n",
       "      <td>15-Jul-30</td>\n",
       "      <td>16:00</td>\n",
       "      <td>Group 1</td>\n",
       "      <td>Parque Central</td>\n",
       "      <td>Montevideo</td>\n",
       "      <td>Argentina</td>\n",
       "      <td>1</td>\n",
       "      <td>0</td>\n",
       "      <td>France</td>\n",
       "      <td></td>\n",
       "      <td>1</td>\n",
       "    </tr>\n",
       "  </tbody>\n",
       "</table>\n",
       "</div>"
      ],
      "text/plain": [
       "   Year       Date     Time    Round         Stadium         City    HomeTeam  \\\n",
       "0  1930  13-Jul-30   15:00   Group 1         Pocitos  Montevideo       France   \n",
       "1  1930  13-Jul-30   15:00   Group 4  Parque Central  Montevideo          USA   \n",
       "2  1930  14-Jul-30   12:45   Group 2  Parque Central  Montevideo   Yugoslavia   \n",
       "3  1930  14-Jul-30   14:50   Group 3         Pocitos  Montevideo      Romania   \n",
       "4  1930  15-Jul-30   16:00   Group 1  Parque Central  Montevideo    Argentina   \n",
       "\n",
       "   HomeGoals  AwayGoals AwayTeam Observation  TotalGoalsPerGame  \n",
       "0          4          1   Mexico                              5  \n",
       "1          3          0  Belgium                              3  \n",
       "2          2          1   Brazil                              3  \n",
       "3          3          1     Peru                              4  \n",
       "4          1          0   France                              1  "
      ]
     },
     "execution_count": 9,
     "metadata": {},
     "output_type": "execute_result"
    }
   ],
   "source": [
    "# Checking column creation\n",
    "worldCupData.head()"
   ]
  },
  {
   "cell_type": "code",
   "execution_count": 10,
   "metadata": {},
   "outputs": [
    {
     "name": "stdout",
     "output_type": "stream",
     "text": [
      "[1930 1934 1938 1950 1954 1958 1962 1966 1970 1974 1978 1982 1986 1990\n",
      " 1994 1998 2002 2006 2010 2014]\n"
     ]
    }
   ],
   "source": [
    "# Creating a variable to store unique years\n",
    "# This will help us see only the occuring year without repetition\n",
    "UniqueYear = worldCupData['Year'].unique()\n",
    "print(UniqueYear)"
   ]
  },
  {
   "cell_type": "code",
   "execution_count": 11,
   "metadata": {
    "scrolled": true
   },
   "outputs": [
    {
     "name": "stdout",
     "output_type": "stream",
     "text": [
      "Total goals scored each tournament year is as follows: \n",
      "1930 - 70\n",
      "1934 - 70\n",
      "1938 - 84\n",
      "1950 - 88\n",
      "1954 - 140\n",
      "1958 - 126\n",
      "1962 - 89\n",
      "1966 - 89\n",
      "1970 - 95\n",
      "1974 - 97\n",
      "1978 - 102\n",
      "1982 - 146\n",
      "1986 - 132\n",
      "1990 - 115\n",
      "1994 - 141\n",
      "1998 - 171\n",
      "2002 - 161\n",
      "2006 - 147\n",
      "2010 - 145\n",
      "2014 - 206\n"
     ]
    }
   ],
   "source": [
    "# Getting total goals scored for each tournament year\n",
    "print(\"Total goals scored each tournament year is as follows: \")\n",
    "for i in UniqueYear:\n",
    "    goals = sum(worldCupData[worldCupData.Year == i].TotalGoalsPerGame)\n",
    "    print(i,'-', goals)"
   ]
  },
  {
   "cell_type": "code",
   "execution_count": 12,
   "metadata": {},
   "outputs": [
    {
     "name": "stdout",
     "output_type": "stream",
     "text": [
      "2414\n"
     ]
    }
   ],
   "source": [
    "#Total number of goals scored in the competition\n",
    "print(sum(worldCupData['TotalGoalsPerGame']))"
   ]
  },
  {
   "cell_type": "markdown",
   "metadata": {},
   "source": [
    "The total number of goals scored in the competition is 2414.\n",
    "\n",
    "The highest number of goals was scored in year 2014, although we do not have data about the details of the matches, we can guess the defense is poor or there has been much improvement in the strikers tactics, followed by 1998, 2002, 2006 etc."
   ]
  },
  {
   "cell_type": "markdown",
   "metadata": {},
   "source": [
    "Exploring the dataset we can see there is a reoccuring team as Germany FR and Germany... This is because Germany was earlier known as Germany FR.\n",
    "\n",
    "We will proceed to correct this so we can have one occurrence of Germany\n",
    "\n",
    "row [79] has example, let's see."
   ]
  },
  {
   "cell_type": "code",
   "execution_count": 13,
   "metadata": {},
   "outputs": [
    {
     "data": {
      "text/plain": [
       "Year                             1954\n",
       "Date                        17-Jun-54\n",
       "Time                           18:00 \n",
       "Round                         Group 2\n",
       "Stadium              Wankdorf Stadium\n",
       "City                           Berne \n",
       "HomeTeam                   Germany FR\n",
       "HomeGoals                           4\n",
       "AwayGoals                           1\n",
       "AwayTeam                       Turkey\n",
       "Observation                          \n",
       "TotalGoalsPerGame                   5\n",
       "Name: 79, dtype: object"
      ]
     },
     "execution_count": 13,
     "metadata": {},
     "output_type": "execute_result"
    }
   ],
   "source": [
    "worldCupData.iloc[79]"
   ]
  },
  {
   "cell_type": "code",
   "execution_count": 14,
   "metadata": {
    "scrolled": true
   },
   "outputs": [],
   "source": [
    "# We will go ahead and effect the change here\n",
    "\n",
    "worldCupData['HomeTeam'] = worldCupData['HomeTeam'].str.replace(\"Germany FR\", \"Germany\")"
   ]
  },
  {
   "cell_type": "markdown",
   "metadata": {},
   "source": [
    "This occurrence is likely to be in the AwayTeam too, therefore we will proceed to do the same."
   ]
  },
  {
   "cell_type": "code",
   "execution_count": 15,
   "metadata": {},
   "outputs": [],
   "source": [
    "worldCupData['AwayTeam'] = worldCupData['AwayTeam'].str.replace(\"Germany FR\", \"Germany\")"
   ]
  },
  {
   "cell_type": "markdown",
   "metadata": {},
   "source": [
    "Let's check again to be sure"
   ]
  },
  {
   "cell_type": "code",
   "execution_count": 16,
   "metadata": {},
   "outputs": [
    {
     "data": {
      "text/plain": [
       "Year                             1954\n",
       "Date                        17-Jun-54\n",
       "Time                           18:00 \n",
       "Round                         Group 2\n",
       "Stadium              Wankdorf Stadium\n",
       "City                           Berne \n",
       "HomeTeam                      Germany\n",
       "HomeGoals                           4\n",
       "AwayGoals                           1\n",
       "AwayTeam                       Turkey\n",
       "Observation                          \n",
       "TotalGoalsPerGame                   5\n",
       "Name: 79, dtype: object"
      ]
     },
     "execution_count": 16,
     "metadata": {},
     "output_type": "execute_result"
    }
   ],
   "source": [
    "worldCupData.iloc[79]"
   ]
  },
  {
   "cell_type": "markdown",
   "metadata": {},
   "source": [
    "##### Question 3: All teams who have reached finals and how many times"
   ]
  },
  {
   "cell_type": "code",
   "execution_count": 17,
   "metadata": {},
   "outputs": [],
   "source": [
    "# We create a variable to store home teams that got to the final.\n",
    "HomeTeamsInFinal = worldCupData[worldCupData.Round == 'Final'].HomeTeam\n",
    "# We also create away team to store teams that got to the final\n",
    "AwayTeamsInFinal = worldCupData[worldCupData.Round == 'Final'].AwayTeam"
   ]
  },
  {
   "cell_type": "code",
   "execution_count": 18,
   "metadata": {},
   "outputs": [],
   "source": [
    "# We merge all the teams \n",
    "AllTeamsInFinal = []\n",
    "for value in HomeTeamsInFinal:\n",
    "    AllTeamsInFinal.append(value)\n",
    "for value in AwayTeamsInFinal:\n",
    "    AllTeamsInFinal.append(value)"
   ]
  },
  {
   "cell_type": "code",
   "execution_count": 19,
   "metadata": {},
   "outputs": [],
   "source": [
    "# To see all teams that got to the final and number of times they did\n",
    "TeamsAndCount = {}\n",
    "for team in AllTeamsInFinal:\n",
    "    if team not in TeamsAndCount:\n",
    "        TeamsAndCount[team] = 1\n",
    "    else:\n",
    "        TeamsAndCount[team] += 1"
   ]
  },
  {
   "cell_type": "code",
   "execution_count": 20,
   "metadata": {
    "scrolled": false
   },
   "outputs": [
    {
     "data": {
      "text/plain": [
       "{'Uruguay': 1,\n",
       " 'Italy': 6,\n",
       " 'Germany': 9,\n",
       " 'Brazil': 6,\n",
       " 'England': 1,\n",
       " 'Netherlands': 3,\n",
       " 'Argentina': 6,\n",
       " 'Czechoslovakia': 2,\n",
       " 'Hungary': 2,\n",
       " 'Sweden': 1,\n",
       " 'France': 2,\n",
       " 'Spain': 1}"
      ]
     },
     "execution_count": 20,
     "metadata": {},
     "output_type": "execute_result"
    }
   ],
   "source": [
    "TeamsAndCount"
   ]
  },
  {
   "cell_type": "markdown",
   "metadata": {},
   "source": [
    "A total of 12 teams/country has participated in the final since the competition began till 2014.\n",
    "\n",
    "Germany is the team to beat as they have gotten to the final 9 times. Italy, Brazil, Argentina have each reached the final 6 times. Followed by Netherlands who has reached final 3 times."
   ]
  },
  {
   "cell_type": "markdown",
   "metadata": {},
   "source": [
    "##### Question 4: All teams who have reached semi-finals and how many times"
   ]
  },
  {
   "cell_type": "code",
   "execution_count": 21,
   "metadata": {},
   "outputs": [],
   "source": [
    "# Storing data of teams who has reached semi-finals in both home and away team columns\n",
    "HomeTeamsInSemiFinal = worldCupData[worldCupData.Round == 'Semi-finals'].HomeTeam\n",
    "AwayTeamsInSemiFinal = worldCupData[worldCupData.Round == 'Semi-finals'].AwayTeam"
   ]
  },
  {
   "cell_type": "code",
   "execution_count": 22,
   "metadata": {},
   "outputs": [],
   "source": [
    "# Merging the two data\n",
    "AllTeamsInSemiFinal = []\n",
    "for value in HomeTeamsInSemiFinal:\n",
    "    AllTeamsInSemiFinal.append(value)\n",
    "for value in AwayTeamsInSemiFinal:\n",
    "    AllTeamsInSemiFinal.append(value)"
   ]
  },
  {
   "cell_type": "code",
   "execution_count": 23,
   "metadata": {},
   "outputs": [],
   "source": [
    "# # To see all teams that got to the semi-final and number of times they did\n",
    "SemiFinalTeamsAndCount = {}\n",
    "for team in AllTeamsInSemiFinal:\n",
    "    if team not in SemiFinalTeamsAndCount:\n",
    "        SemiFinalTeamsAndCount[team] = 1\n",
    "    else:\n",
    "        SemiFinalTeamsAndCount[team] += 1"
   ]
  },
  {
   "cell_type": "code",
   "execution_count": 24,
   "metadata": {
    "scrolled": false
   },
   "outputs": [
    {
     "data": {
      "text/plain": [
       "{'Argentina': 5,\n",
       " 'Uruguay': 4,\n",
       " 'Italy': 7,\n",
       " 'Czechoslovakia': 2,\n",
       " 'Hungary': 2,\n",
       " 'Germany': 13,\n",
       " 'Sweden': 3,\n",
       " 'Brazil': 9,\n",
       " 'England': 2,\n",
       " 'Poland': 1,\n",
       " 'France': 5,\n",
       " 'Bulgaria': 1,\n",
       " 'Portugal': 2,\n",
       " 'Netherlands': 4,\n",
       " 'USA': 1,\n",
       " 'Yugoslavia': 2,\n",
       " 'Austria': 2,\n",
       " 'Chile': 1,\n",
       " 'Soviet Union': 1,\n",
       " 'Belgium': 1,\n",
       " 'Croatia': 1,\n",
       " 'Korea Republic': 1,\n",
       " 'Turkey': 1,\n",
       " 'Spain': 1}"
      ]
     },
     "execution_count": 24,
     "metadata": {},
     "output_type": "execute_result"
    }
   ],
   "source": [
    "SemiFinalTeamsAndCount"
   ]
  },
  {
   "cell_type": "markdown",
   "metadata": {},
   "source": [
    "It is not surprising to see Germany leading the pack again with 13. Seeing them in the finals 9 times means they are a high performing side. They are followed by Brazil, 9 times.\n",
    "\n",
    "Something that is worthy of note however is Argentina who has reached the finals 6 times but played in the semi-finals 5 times. This is something to investigate.\n",
    "\n",
    "It turns out the competition did not play semi-finals in the year 1978. Argentina was in the final in the year. You may want to find out, what happened??"
   ]
  },
  {
   "cell_type": "markdown",
   "metadata": {},
   "source": [
    "##### Question 5: How many goals and average goals scored in all semi-finals"
   ]
  },
  {
   "cell_type": "code",
   "execution_count": 25,
   "metadata": {},
   "outputs": [
    {
     "name": "stdout",
     "output_type": "stream",
     "text": [
      "Total goals scored in Semi-Finals:  131\n",
      "Total number of matches played in Semi-Finals:  36\n",
      "Average goals:  3.638888888888889\n"
     ]
    }
   ],
   "source": [
    "# We collate all total goals scored per game where the round is semi-finals\n",
    "TotalGoalsInSemiFinal = sum(worldCupData[worldCupData.Round == 'Semi-finals'].TotalGoalsPerGame)\n",
    "print('Total goals scored in Semi-Finals: ', TotalGoalsInSemiFinal)\n",
    "\n",
    "# To find the average goals score\n",
    "# Which will be total goals scored divide by number of matches\n",
    "# We need to find out first the total number of matches played in the semifinals\n",
    "\n",
    "NumOfMatchesinSemifinals = len(worldCupData[worldCupData.Round == 'Semi-finals'].TotalGoalsPerGame)\n",
    "print('Total number of matches played in Semi-Finals: ', NumOfMatchesinSemifinals)\n",
    "\n",
    "# Averagegoals = TotalGoalsInSemiFinal / NumOfMatchesinSemifinals\n",
    "\n",
    "Averagegoals = TotalGoalsInSemiFinal / NumOfMatchesinSemifinals\n",
    "print('Average goals: ', Averagegoals)"
   ]
  },
  {
   "cell_type": "markdown",
   "metadata": {},
   "source": [
    "Turns out there were 36 semi-final matches played since the competition began."
   ]
  },
  {
   "cell_type": "markdown",
   "metadata": {},
   "source": [
    "There is an average of 3.64 goals per game in the semi-finals. It will be interesting to see how this compare with other stages of the competition."
   ]
  },
  {
   "cell_type": "markdown",
   "metadata": {},
   "source": [
    "##### Question 6: How many goals and average goals scored in all quarter-finals"
   ]
  },
  {
   "cell_type": "code",
   "execution_count": 26,
   "metadata": {},
   "outputs": [
    {
     "data": {
      "text/plain": [
       "Round of 16                 72\n",
       "Quarter-finals              66\n",
       "Group 1                     62\n",
       "Group A                     60\n",
       "Group B                     60\n",
       "Group 2                     59\n",
       "Group 3                     56\n",
       "Group 4                     55\n",
       "Group D                     48\n",
       "Group E                     48\n",
       "Group C                     48\n",
       "Group F                     48\n",
       "Semi-finals                 36\n",
       "Group H                     30\n",
       "Group G                     30\n",
       "Final                       20\n",
       "Match for third place       15\n",
       "Group 6                     12\n",
       "First round                  9\n",
       "Preliminary round            8\n",
       "Group 5                      6\n",
       "Play-off for third place     2\n",
       "Third place                  2\n",
       "Name: Round, dtype: int64"
      ]
     },
     "execution_count": 26,
     "metadata": {},
     "output_type": "execute_result"
    }
   ],
   "source": [
    "worldCupData['Round'].value_counts()"
   ]
  },
  {
   "cell_type": "code",
   "execution_count": 27,
   "metadata": {},
   "outputs": [
    {
     "name": "stdout",
     "output_type": "stream",
     "text": [
      "Total goals scored in the Quater-Finals:  180\n",
      "Total number of matches played in the Quater-Finals:  66\n",
      "Average goals:  2.727272727272727\n"
     ]
    }
   ],
   "source": [
    "# We sum all total goals scored per game where the round is quater-finals\n",
    "TotalGoalsInQuaterFinal = sum(worldCupData[worldCupData.Round == 'Quarter-finals'].TotalGoalsPerGame)\n",
    "print('Total goals scored in the Quater-Finals: ', TotalGoalsInQuaterFinal)\n",
    "\n",
    "# We also need to find out first the total number of matches played in the quater-finals\n",
    "\n",
    "NumOfMatchesinQuaterfinals = len(worldCupData[worldCupData.Round == 'Quarter-finals'].TotalGoalsPerGame)\n",
    "print('Total number of matches played in the Quater-Finals: ', NumOfMatchesinQuaterfinals)\n",
    "# Averagegoals = TotalGoalsInSemiFinal / NumOfMatchesinSemifinals\n",
    "\n",
    "AveragegoalsQF = TotalGoalsInQuaterFinal / NumOfMatchesinQuaterfinals\n",
    "print('Average goals: ', AveragegoalsQF)"
   ]
  },
  {
   "cell_type": "markdown",
   "metadata": {},
   "source": [
    "##### Question 7: How many goals and average goals scored in all finals"
   ]
  },
  {
   "cell_type": "code",
   "execution_count": 28,
   "metadata": {},
   "outputs": [
    {
     "name": "stdout",
     "output_type": "stream",
     "text": [
      "Total goals scored in the Final:  69\n",
      "Total number of matches played in the Final:  20\n",
      "Average goals:  3.45\n"
     ]
    }
   ],
   "source": [
    "# We sum all total goals scored per game where the round is finals\n",
    "TotalGoalsInFinal = sum(worldCupData[worldCupData.Round == 'Final'].TotalGoalsPerGame)\n",
    "print('Total goals scored in the Final: ', TotalGoalsInFinal)\n",
    "# We also need to find out first the total number of matches played in the final\n",
    "\n",
    "NumOfMatchesinfinal = len(worldCupData[worldCupData.Round == 'Final'].TotalGoalsPerGame)\n",
    "print('Total number of matches played in the Final: ', NumOfMatchesinfinal)\n",
    "# Averagegoals = TotalGoalsInFinal / NumOfMatchesinfinal\n",
    "\n",
    "AveragegoalsF = TotalGoalsInFinal / NumOfMatchesinfinal\n",
    "print(\"Average goals: \", AveragegoalsF)"
   ]
  },
  {
   "cell_type": "markdown",
   "metadata": {},
   "source": [
    "##### Question 8: How many matches were played outside quater-finals and above"
   ]
  },
  {
   "cell_type": "code",
   "execution_count": 30,
   "metadata": {},
   "outputs": [],
   "source": [
    "# total number of matches played outside quater-finals and above\n",
    "\n",
    "numOQ = len(worldCupData['TotalGoalsPerGame']) - (len(worldCupData[worldCupData.Round == 'Quarter-finals'].TotalGoalsPerGame) + \n",
    "         len(worldCupData[worldCupData.Round == 'Semi-finals'].TotalGoalsPerGame) + \n",
    "         len(worldCupData[worldCupData.Round == 'Final'].TotalGoalsPerGame))"
   ]
  },
  {
   "cell_type": "code",
   "execution_count": 31,
   "metadata": {
    "scrolled": true
   },
   "outputs": [
    {
     "name": "stdout",
     "output_type": "stream",
     "text": [
      "730\n"
     ]
    }
   ],
   "source": [
    "print(numOQ)"
   ]
  },
  {
   "cell_type": "markdown",
   "metadata": {},
   "source": [
    "The total number of matches played outside quater-finals and above is 730."
   ]
  },
  {
   "cell_type": "markdown",
   "metadata": {},
   "source": [
    "##### Question 9: Create new column for each of the outcome of every match: D for Draw, H for HomeTeam wims, A for AwayTeam wins"
   ]
  },
  {
   "cell_type": "code",
   "execution_count": 32,
   "metadata": {},
   "outputs": [],
   "source": [
    "# Creating columns for outcome\n",
    "# D for Draw, H for HomeTeam wims, A for AwayTeam wins\n",
    "worldCupData.loc[worldCupData['HomeGoals'] == worldCupData['AwayGoals'], 'Outcome'] = 'D'\n",
    "worldCupData.loc[worldCupData['HomeGoals'] > worldCupData['AwayGoals'], 'Outcome'] = 'H'\n",
    "worldCupData.loc[worldCupData['HomeGoals'] < worldCupData['AwayGoals'], 'Outcome'] = 'A'"
   ]
  },
  {
   "cell_type": "code",
   "execution_count": 33,
   "metadata": {},
   "outputs": [
    {
     "data": {
      "text/html": [
       "<div>\n",
       "<style scoped>\n",
       "    .dataframe tbody tr th:only-of-type {\n",
       "        vertical-align: middle;\n",
       "    }\n",
       "\n",
       "    .dataframe tbody tr th {\n",
       "        vertical-align: top;\n",
       "    }\n",
       "\n",
       "    .dataframe thead th {\n",
       "        text-align: right;\n",
       "    }\n",
       "</style>\n",
       "<table border=\"1\" class=\"dataframe\">\n",
       "  <thead>\n",
       "    <tr style=\"text-align: right;\">\n",
       "      <th></th>\n",
       "      <th>Year</th>\n",
       "      <th>Date</th>\n",
       "      <th>Time</th>\n",
       "      <th>Round</th>\n",
       "      <th>Stadium</th>\n",
       "      <th>City</th>\n",
       "      <th>HomeTeam</th>\n",
       "      <th>HomeGoals</th>\n",
       "      <th>AwayGoals</th>\n",
       "      <th>AwayTeam</th>\n",
       "      <th>Observation</th>\n",
       "      <th>TotalGoalsPerGame</th>\n",
       "      <th>Outcome</th>\n",
       "    </tr>\n",
       "  </thead>\n",
       "  <tbody>\n",
       "    <tr>\n",
       "      <td>0</td>\n",
       "      <td>1930</td>\n",
       "      <td>13-Jul-30</td>\n",
       "      <td>15:00</td>\n",
       "      <td>Group 1</td>\n",
       "      <td>Pocitos</td>\n",
       "      <td>Montevideo</td>\n",
       "      <td>France</td>\n",
       "      <td>4</td>\n",
       "      <td>1</td>\n",
       "      <td>Mexico</td>\n",
       "      <td></td>\n",
       "      <td>5</td>\n",
       "      <td>H</td>\n",
       "    </tr>\n",
       "    <tr>\n",
       "      <td>1</td>\n",
       "      <td>1930</td>\n",
       "      <td>13-Jul-30</td>\n",
       "      <td>15:00</td>\n",
       "      <td>Group 4</td>\n",
       "      <td>Parque Central</td>\n",
       "      <td>Montevideo</td>\n",
       "      <td>USA</td>\n",
       "      <td>3</td>\n",
       "      <td>0</td>\n",
       "      <td>Belgium</td>\n",
       "      <td></td>\n",
       "      <td>3</td>\n",
       "      <td>H</td>\n",
       "    </tr>\n",
       "    <tr>\n",
       "      <td>2</td>\n",
       "      <td>1930</td>\n",
       "      <td>14-Jul-30</td>\n",
       "      <td>12:45</td>\n",
       "      <td>Group 2</td>\n",
       "      <td>Parque Central</td>\n",
       "      <td>Montevideo</td>\n",
       "      <td>Yugoslavia</td>\n",
       "      <td>2</td>\n",
       "      <td>1</td>\n",
       "      <td>Brazil</td>\n",
       "      <td></td>\n",
       "      <td>3</td>\n",
       "      <td>H</td>\n",
       "    </tr>\n",
       "    <tr>\n",
       "      <td>3</td>\n",
       "      <td>1930</td>\n",
       "      <td>14-Jul-30</td>\n",
       "      <td>14:50</td>\n",
       "      <td>Group 3</td>\n",
       "      <td>Pocitos</td>\n",
       "      <td>Montevideo</td>\n",
       "      <td>Romania</td>\n",
       "      <td>3</td>\n",
       "      <td>1</td>\n",
       "      <td>Peru</td>\n",
       "      <td></td>\n",
       "      <td>4</td>\n",
       "      <td>H</td>\n",
       "    </tr>\n",
       "    <tr>\n",
       "      <td>4</td>\n",
       "      <td>1930</td>\n",
       "      <td>15-Jul-30</td>\n",
       "      <td>16:00</td>\n",
       "      <td>Group 1</td>\n",
       "      <td>Parque Central</td>\n",
       "      <td>Montevideo</td>\n",
       "      <td>Argentina</td>\n",
       "      <td>1</td>\n",
       "      <td>0</td>\n",
       "      <td>France</td>\n",
       "      <td></td>\n",
       "      <td>1</td>\n",
       "      <td>H</td>\n",
       "    </tr>\n",
       "    <tr>\n",
       "      <td>...</td>\n",
       "      <td>...</td>\n",
       "      <td>...</td>\n",
       "      <td>...</td>\n",
       "      <td>...</td>\n",
       "      <td>...</td>\n",
       "      <td>...</td>\n",
       "      <td>...</td>\n",
       "      <td>...</td>\n",
       "      <td>...</td>\n",
       "      <td>...</td>\n",
       "      <td>...</td>\n",
       "      <td>...</td>\n",
       "      <td>...</td>\n",
       "    </tr>\n",
       "    <tr>\n",
       "      <td>847</td>\n",
       "      <td>2014</td>\n",
       "      <td>5-Jul-14</td>\n",
       "      <td>17:00</td>\n",
       "      <td>Quarter-finals</td>\n",
       "      <td>Arena Fonte Nova</td>\n",
       "      <td>Salvador</td>\n",
       "      <td>Netherlands</td>\n",
       "      <td>0</td>\n",
       "      <td>0</td>\n",
       "      <td>Costa Rica</td>\n",
       "      <td>Netherlands win on penalties (4 - 3)</td>\n",
       "      <td>0</td>\n",
       "      <td>D</td>\n",
       "    </tr>\n",
       "    <tr>\n",
       "      <td>848</td>\n",
       "      <td>2014</td>\n",
       "      <td>8-Jul-14</td>\n",
       "      <td>17:00</td>\n",
       "      <td>Semi-finals</td>\n",
       "      <td>Estadio Mineirao</td>\n",
       "      <td>Belo Horizonte</td>\n",
       "      <td>Brazil</td>\n",
       "      <td>1</td>\n",
       "      <td>7</td>\n",
       "      <td>Germany</td>\n",
       "      <td></td>\n",
       "      <td>8</td>\n",
       "      <td>A</td>\n",
       "    </tr>\n",
       "    <tr>\n",
       "      <td>849</td>\n",
       "      <td>2014</td>\n",
       "      <td>9-Jul-14</td>\n",
       "      <td>17:00</td>\n",
       "      <td>Semi-finals</td>\n",
       "      <td>Arena de Sao Paulo</td>\n",
       "      <td>Sao Paulo</td>\n",
       "      <td>Netherlands</td>\n",
       "      <td>0</td>\n",
       "      <td>0</td>\n",
       "      <td>Argentina</td>\n",
       "      <td>Argentina win on penalties (2 - 4)</td>\n",
       "      <td>0</td>\n",
       "      <td>D</td>\n",
       "    </tr>\n",
       "    <tr>\n",
       "      <td>850</td>\n",
       "      <td>2014</td>\n",
       "      <td>12-Jul-14</td>\n",
       "      <td>17:00</td>\n",
       "      <td>Play-off for third place</td>\n",
       "      <td>Estadio Nacional</td>\n",
       "      <td>Brasilia</td>\n",
       "      <td>Brazil</td>\n",
       "      <td>0</td>\n",
       "      <td>3</td>\n",
       "      <td>Netherlands</td>\n",
       "      <td></td>\n",
       "      <td>3</td>\n",
       "      <td>A</td>\n",
       "    </tr>\n",
       "    <tr>\n",
       "      <td>851</td>\n",
       "      <td>2014</td>\n",
       "      <td>13-Jul-14</td>\n",
       "      <td>16:00</td>\n",
       "      <td>Final</td>\n",
       "      <td>Estadio do Maracana</td>\n",
       "      <td>Rio De Janeiro</td>\n",
       "      <td>Germany</td>\n",
       "      <td>1</td>\n",
       "      <td>0</td>\n",
       "      <td>Argentina</td>\n",
       "      <td>Germany win after extra time</td>\n",
       "      <td>1</td>\n",
       "      <td>H</td>\n",
       "    </tr>\n",
       "  </tbody>\n",
       "</table>\n",
       "<p>852 rows × 13 columns</p>\n",
       "</div>"
      ],
      "text/plain": [
       "     Year       Date     Time                     Round              Stadium  \\\n",
       "0    1930  13-Jul-30   15:00                    Group 1              Pocitos   \n",
       "1    1930  13-Jul-30   15:00                    Group 4       Parque Central   \n",
       "2    1930  14-Jul-30   12:45                    Group 2       Parque Central   \n",
       "3    1930  14-Jul-30   14:50                    Group 3              Pocitos   \n",
       "4    1930  15-Jul-30   16:00                    Group 1       Parque Central   \n",
       "..    ...        ...      ...                       ...                  ...   \n",
       "847  2014   5-Jul-14   17:00             Quarter-finals     Arena Fonte Nova   \n",
       "848  2014   8-Jul-14   17:00                Semi-finals     Estadio Mineirao   \n",
       "849  2014   9-Jul-14   17:00                Semi-finals   Arena de Sao Paulo   \n",
       "850  2014  12-Jul-14   17:00   Play-off for third place     Estadio Nacional   \n",
       "851  2014  13-Jul-14   16:00                      Final  Estadio do Maracana   \n",
       "\n",
       "                City     HomeTeam  HomeGoals  AwayGoals     AwayTeam  \\\n",
       "0        Montevideo        France          4          1       Mexico   \n",
       "1        Montevideo           USA          3          0      Belgium   \n",
       "2        Montevideo    Yugoslavia          2          1       Brazil   \n",
       "3        Montevideo       Romania          3          1         Peru   \n",
       "4        Montevideo     Argentina          1          0       France   \n",
       "..               ...          ...        ...        ...          ...   \n",
       "847        Salvador   Netherlands          0          0   Costa Rica   \n",
       "848  Belo Horizonte        Brazil          1          7      Germany   \n",
       "849       Sao Paulo   Netherlands          0          0    Argentina   \n",
       "850        Brasilia        Brazil          0          3  Netherlands   \n",
       "851  Rio De Janeiro       Germany          1          0    Argentina   \n",
       "\n",
       "                               Observation  TotalGoalsPerGame Outcome  \n",
       "0                                                           5       H  \n",
       "1                                                           3       H  \n",
       "2                                                           3       H  \n",
       "3                                                           4       H  \n",
       "4                                                           1       H  \n",
       "..                                     ...                ...     ...  \n",
       "847  Netherlands win on penalties (4 - 3)                   0       D  \n",
       "848                                                         8       A  \n",
       "849    Argentina win on penalties (2 - 4)                   0       D  \n",
       "850                                                         3       A  \n",
       "851          Germany win after extra time                   1       H  \n",
       "\n",
       "[852 rows x 13 columns]"
      ]
     },
     "execution_count": 33,
     "metadata": {},
     "output_type": "execute_result"
    }
   ],
   "source": [
    "# Let's see the column created and data within\n",
    "\n",
    "worldCupData"
   ]
  },
  {
   "cell_type": "code",
   "execution_count": null,
   "metadata": {},
   "outputs": [],
   "source": []
  }
 ],
 "metadata": {
  "kernelspec": {
   "display_name": "Python 3",
   "language": "python",
   "name": "python3"
  },
  "language_info": {
   "codemirror_mode": {
    "name": "ipython",
    "version": 3
   },
   "file_extension": ".py",
   "mimetype": "text/x-python",
   "name": "python",
   "nbconvert_exporter": "python",
   "pygments_lexer": "ipython3",
   "version": "3.7.4"
  }
 },
 "nbformat": 4,
 "nbformat_minor": 2
}
